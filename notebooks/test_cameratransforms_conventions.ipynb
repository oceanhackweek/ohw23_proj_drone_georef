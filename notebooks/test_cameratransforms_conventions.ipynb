{
 "cells": [
  {
   "cell_type": "code",
   "execution_count": 2,
   "metadata": {},
   "outputs": [],
   "source": [
    "import cameratransform as ct"
   ]
  },
  {
   "cell_type": "code",
   "execution_count": 74,
   "metadata": {},
   "outputs": [
    {
     "data": {
      "text/plain": [
       "array([2736., 1824.])"
      ]
     },
     "execution_count": 74,
     "metadata": {},
     "output_type": "execute_result"
    }
   ],
   "source": [
    "# DJI P4RTK Camera Sensor Parameters\n",
    "image_width_px =  5472\n",
    "image_height_px = 3648\n",
    "focallength_x_px, focallength_y_px = 3666.666504, 3666.666504 #in pixels\n",
    "\n",
    "sensor_width_mm = 13.1\n",
    "sensor_height_mm = sensor_width_mm/image_width_px*image_height_px\n",
    "focallength_mm = 8.8\n",
    "\n",
    "px, py = image_width_px / 2, image_height_px / 2\n",
    "\n",
    "# initialize the camera\n",
    "cam = ct.Camera(ct.RectilinearProjection(focallength_x_px=focallength_x_px,\n",
    "                                         focallength_y_px=focallength_y_px,\n",
    "                                         image_height_px=image_height_px,\n",
    "                                         image_width_px=image_width_px,\n",
    "                                         ),\n",
    "                ct.SpatialOrientation(elevation_m=40.,\n",
    "                                      pos_x_m=0., \n",
    "                                      pos_y_m=10.,\n",
    "                                      tilt_deg=0))\n",
    "\n",
    "cam.imageFromSpace([0,-10,0], hide_backpoints=True)\n"
   ]
  },
  {
   "cell_type": "code",
   "execution_count": 71,
   "metadata": {},
   "outputs": [
    {
     "data": {
      "text/plain": [
       "array([2736.        ,  905.03816794])"
      ]
     },
     "execution_count": 71,
     "metadata": {},
     "output_type": "execute_result"
    }
   ],
   "source": [
    "# initialize the camera\n",
    "cam2 = ct.Camera(ct.RectilinearProjection(focallength_mm=focallength_mm,\n",
    "                                          sensor_width_mm=sensor_width_mm,\n",
    "                                          sensor_height_mm=sensor_height_mm,\n",
    "                                          image_height_px=image_height_px,\n",
    "                                          image_width_px=image_width_px\n",
    "                                          ),\n",
    "                ct.SpatialOrientation(elevation_m=40,\n",
    "                                      pos_x_m=0., \n",
    "                                      pos_y_m=0.,\n",
    "                                      tilt_deg=0))\n",
    "\n",
    "cam2.imageFromSpace([0,10,0], hide_backpoints=True)"
   ]
  },
  {
   "cell_type": "code",
   "execution_count": 72,
   "metadata": {},
   "outputs": [
    {
     "data": {
      "text/plain": [
       "3675.8473282442756"
      ]
     },
     "execution_count": 72,
     "metadata": {},
     "output_type": "execute_result"
    }
   ],
   "source": [
    "fl = focallength_mm/sensor_width_mm*image_width_px\n",
    "fl"
   ]
  },
  {
   "cell_type": "code",
   "execution_count": null,
   "metadata": {},
   "outputs": [],
   "source": []
  }
 ],
 "metadata": {
  "kernelspec": {
   "display_name": "Python 3",
   "language": "python",
   "name": "python3"
  },
  "language_info": {
   "codemirror_mode": {
    "name": "ipython",
    "version": 3
   },
   "file_extension": ".py",
   "mimetype": "text/x-python",
   "name": "python",
   "nbconvert_exporter": "python",
   "pygments_lexer": "ipython3",
   "version": "3.11.4"
  },
  "orig_nbformat": 4
 },
 "nbformat": 4,
 "nbformat_minor": 2
}

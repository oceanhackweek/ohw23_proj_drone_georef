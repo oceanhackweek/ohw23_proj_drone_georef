{
 "cells": [
  {
   "cell_type": "code",
   "execution_count": 1,
   "metadata": {},
   "outputs": [],
   "source": [
    "import cameratransform as ct"
   ]
  },
  {
   "cell_type": "code",
   "execution_count": 18,
   "metadata": {},
   "outputs": [
    {
     "data": {
      "text/plain": [
       "array([1824., 2736.])"
      ]
     },
     "execution_count": 18,
     "metadata": {},
     "output_type": "execute_result"
    }
   ],
   "source": [
    "# DJI P4RTK Camera Sensor Parameters\n",
    "image_width =  5472\n",
    "image_height = 3648\n",
    "fx, fy = -3666, -3666 #in pixels\n",
    "\n",
    "px, py = image_width / 2, image_height / 2\n",
    "\n",
    "# initialize the camera\n",
    "cam = ct.Camera(ct.RectilinearProjection(focallength_x_px=fx,\n",
    "                                         focallength_y_px=fy,\n",
    "                                         image=(image_height,image_width)),\n",
    "                ct.SpatialOrientation(elevation_m=40,\n",
    "                                        tilt_deg=0))\n",
    "\n",
    "cam.imageFromSpace([0,0,0], hide_backpoints=True)\n"
   ]
  }
 ],
 "metadata": {
  "kernelspec": {
   "display_name": "Python 3",
   "language": "python",
   "name": "python3"
  },
  "language_info": {
   "codemirror_mode": {
    "name": "ipython",
    "version": 3
   },
   "file_extension": ".py",
   "mimetype": "text/x-python",
   "name": "python",
   "nbconvert_exporter": "python",
   "pygments_lexer": "ipython3",
   "version": "3.11.4"
  },
  "orig_nbformat": 4
 },
 "nbformat": 4,
 "nbformat_minor": 2
}
